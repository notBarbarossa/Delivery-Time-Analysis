{
 "cells": [
  {
   "cell_type": "markdown",
   "id": "7a3d3cc0",
   "metadata": {},
   "source": [
    "# Overview\n",
    "\n",
    "This analysis aims to provide insights into the timing of orders placed on an online food delivery platform. By understanding the seasonality effects, effects of weekends and weekdays, and effects of different times of the day on order values and profits, we can guide the vouchers and discounts team to distribute vouchers at better timings, ultimately improving customer engagement and boosting sales."
   ]
  },
  {
   "cell_type": "markdown",
   "id": "cdeff46b",
   "metadata": {},
   "source": [
    "## 1. Importing modules"
   ]
  },
  {
   "cell_type": "code",
   "execution_count": null,
   "id": "057f9c1c",
   "metadata": {},
   "outputs": [],
   "source": [
    "import numpy as np\n",
    "import pandas as pd\n",
    "import matplotlib.pyplot as plt\n",
    "import seaborn as sns\n",
    "\n",
    "import warnings\n",
    "\n",
    "warnings.filterwarnings(\"ignore\")"
   ]
  },
  {
   "cell_type": "code",
   "execution_count": null,
   "id": "aed5012b",
   "metadata": {},
   "outputs": [
    {
     "data": {
      "text/plain": [
       "(1000, 12)"
      ]
     },
     "execution_count": 2,
     "metadata": {},
     "output_type": "execute_result"
    }
   ],
   "source": [
    "df = pd.read_csv(\"food_orders_new_delhi.csv\")\n",
    "df.shape"
   ]
  },
  {
   "cell_type": "code",
   "execution_count": 3,
   "id": "0bd27446",
   "metadata": {},
   "outputs": [
    {
     "data": {
      "application/vnd.microsoft.datawrangler.viewer.v0+json": {
       "columns": [
        {
         "name": "index",
         "rawType": "int64",
         "type": "integer"
        },
        {
         "name": "Order ID",
         "rawType": "int64",
         "type": "integer"
        },
        {
         "name": "Customer ID",
         "rawType": "object",
         "type": "string"
        },
        {
         "name": "Restaurant ID",
         "rawType": "object",
         "type": "string"
        },
        {
         "name": "Order Date and Time",
         "rawType": "object",
         "type": "string"
        },
        {
         "name": "Delivery Date and Time",
         "rawType": "object",
         "type": "string"
        },
        {
         "name": "Order Value",
         "rawType": "int64",
         "type": "integer"
        },
        {
         "name": "Delivery Fee",
         "rawType": "int64",
         "type": "integer"
        },
        {
         "name": "Payment Method",
         "rawType": "object",
         "type": "string"
        },
        {
         "name": "Discounts and Offers",
         "rawType": "object",
         "type": "unknown"
        },
        {
         "name": "Commission Fee",
         "rawType": "int64",
         "type": "integer"
        },
        {
         "name": "Payment Processing Fee",
         "rawType": "int64",
         "type": "integer"
        },
        {
         "name": "Refunds/Chargebacks",
         "rawType": "int64",
         "type": "integer"
        }
       ],
       "conversionMethod": "pd.DataFrame",
       "ref": "6fd12f60-b5ce-4627-8dc1-3ff0c4dc90be",
       "rows": [
        [
         "0",
         "1",
         "C8270",
         "R2924",
         "2024-02-01 01:11:52",
         "2024-02-01 02:39:52",
         "1914",
         "0",
         "Credit Card",
         "5% on App",
         "150",
         "47",
         "0"
        ],
        [
         "1",
         "2",
         "C1860",
         "R2054",
         "2024-02-02 22:11:04",
         "2024-02-02 22:46:04",
         "986",
         "40",
         "Digital Wallet",
         "10%",
         "198",
         "23",
         "0"
        ],
        [
         "2",
         "3",
         "C6390",
         "R2870",
         "2024-01-31 05:54:35",
         "2024-01-31 06:52:35",
         "937",
         "30",
         "Cash on Delivery",
         "15% New User",
         "195",
         "45",
         "0"
        ],
        [
         "3",
         "4",
         "C6191",
         "R2642",
         "2024-01-16 22:52:49",
         "2024-01-16 23:38:49",
         "1463",
         "50",
         "Cash on Delivery",
         null,
         "146",
         "27",
         "0"
        ],
        [
         "4",
         "5",
         "C6734",
         "R2799",
         "2024-01-29 01:19:30",
         "2024-01-29 02:48:30",
         "1992",
         "30",
         "Cash on Delivery",
         "50 off Promo",
         "130",
         "50",
         "0"
        ]
       ],
       "shape": {
        "columns": 12,
        "rows": 5
       }
      },
      "text/html": [
       "<div>\n",
       "<style scoped>\n",
       "    .dataframe tbody tr th:only-of-type {\n",
       "        vertical-align: middle;\n",
       "    }\n",
       "\n",
       "    .dataframe tbody tr th {\n",
       "        vertical-align: top;\n",
       "    }\n",
       "\n",
       "    .dataframe thead th {\n",
       "        text-align: right;\n",
       "    }\n",
       "</style>\n",
       "<table border=\"1\" class=\"dataframe\">\n",
       "  <thead>\n",
       "    <tr style=\"text-align: right;\">\n",
       "      <th></th>\n",
       "      <th>Order ID</th>\n",
       "      <th>Customer ID</th>\n",
       "      <th>Restaurant ID</th>\n",
       "      <th>Order Date and Time</th>\n",
       "      <th>Delivery Date and Time</th>\n",
       "      <th>Order Value</th>\n",
       "      <th>Delivery Fee</th>\n",
       "      <th>Payment Method</th>\n",
       "      <th>Discounts and Offers</th>\n",
       "      <th>Commission Fee</th>\n",
       "      <th>Payment Processing Fee</th>\n",
       "      <th>Refunds/Chargebacks</th>\n",
       "    </tr>\n",
       "  </thead>\n",
       "  <tbody>\n",
       "    <tr>\n",
       "      <th>0</th>\n",
       "      <td>1</td>\n",
       "      <td>C8270</td>\n",
       "      <td>R2924</td>\n",
       "      <td>2024-02-01 01:11:52</td>\n",
       "      <td>2024-02-01 02:39:52</td>\n",
       "      <td>1914</td>\n",
       "      <td>0</td>\n",
       "      <td>Credit Card</td>\n",
       "      <td>5% on App</td>\n",
       "      <td>150</td>\n",
       "      <td>47</td>\n",
       "      <td>0</td>\n",
       "    </tr>\n",
       "    <tr>\n",
       "      <th>1</th>\n",
       "      <td>2</td>\n",
       "      <td>C1860</td>\n",
       "      <td>R2054</td>\n",
       "      <td>2024-02-02 22:11:04</td>\n",
       "      <td>2024-02-02 22:46:04</td>\n",
       "      <td>986</td>\n",
       "      <td>40</td>\n",
       "      <td>Digital Wallet</td>\n",
       "      <td>10%</td>\n",
       "      <td>198</td>\n",
       "      <td>23</td>\n",
       "      <td>0</td>\n",
       "    </tr>\n",
       "    <tr>\n",
       "      <th>2</th>\n",
       "      <td>3</td>\n",
       "      <td>C6390</td>\n",
       "      <td>R2870</td>\n",
       "      <td>2024-01-31 05:54:35</td>\n",
       "      <td>2024-01-31 06:52:35</td>\n",
       "      <td>937</td>\n",
       "      <td>30</td>\n",
       "      <td>Cash on Delivery</td>\n",
       "      <td>15% New User</td>\n",
       "      <td>195</td>\n",
       "      <td>45</td>\n",
       "      <td>0</td>\n",
       "    </tr>\n",
       "    <tr>\n",
       "      <th>3</th>\n",
       "      <td>4</td>\n",
       "      <td>C6191</td>\n",
       "      <td>R2642</td>\n",
       "      <td>2024-01-16 22:52:49</td>\n",
       "      <td>2024-01-16 23:38:49</td>\n",
       "      <td>1463</td>\n",
       "      <td>50</td>\n",
       "      <td>Cash on Delivery</td>\n",
       "      <td>NaN</td>\n",
       "      <td>146</td>\n",
       "      <td>27</td>\n",
       "      <td>0</td>\n",
       "    </tr>\n",
       "    <tr>\n",
       "      <th>4</th>\n",
       "      <td>5</td>\n",
       "      <td>C6734</td>\n",
       "      <td>R2799</td>\n",
       "      <td>2024-01-29 01:19:30</td>\n",
       "      <td>2024-01-29 02:48:30</td>\n",
       "      <td>1992</td>\n",
       "      <td>30</td>\n",
       "      <td>Cash on Delivery</td>\n",
       "      <td>50 off Promo</td>\n",
       "      <td>130</td>\n",
       "      <td>50</td>\n",
       "      <td>0</td>\n",
       "    </tr>\n",
       "  </tbody>\n",
       "</table>\n",
       "</div>"
      ],
      "text/plain": [
       "   Order ID Customer ID Restaurant ID  Order Date and Time  \\\n",
       "0         1       C8270         R2924  2024-02-01 01:11:52   \n",
       "1         2       C1860         R2054  2024-02-02 22:11:04   \n",
       "2         3       C6390         R2870  2024-01-31 05:54:35   \n",
       "3         4       C6191         R2642  2024-01-16 22:52:49   \n",
       "4         5       C6734         R2799  2024-01-29 01:19:30   \n",
       "\n",
       "  Delivery Date and Time  Order Value  Delivery Fee    Payment Method  \\\n",
       "0    2024-02-01 02:39:52         1914             0       Credit Card   \n",
       "1    2024-02-02 22:46:04          986            40    Digital Wallet   \n",
       "2    2024-01-31 06:52:35          937            30  Cash on Delivery   \n",
       "3    2024-01-16 23:38:49         1463            50  Cash on Delivery   \n",
       "4    2024-01-29 02:48:30         1992            30  Cash on Delivery   \n",
       "\n",
       "  Discounts and Offers  Commission Fee  Payment Processing Fee  \\\n",
       "0            5% on App             150                      47   \n",
       "1                  10%             198                      23   \n",
       "2         15% New User             195                      45   \n",
       "3                  NaN             146                      27   \n",
       "4         50 off Promo             130                      50   \n",
       "\n",
       "   Refunds/Chargebacks  \n",
       "0                    0  \n",
       "1                    0  \n",
       "2                    0  \n",
       "3                    0  \n",
       "4                    0  "
      ]
     },
     "execution_count": 3,
     "metadata": {},
     "output_type": "execute_result"
    }
   ],
   "source": [
    "df.head()"
   ]
  },
  {
   "cell_type": "code",
   "execution_count": 4,
   "id": "4e91f4ed",
   "metadata": {},
   "outputs": [
    {
     "name": "stdout",
     "output_type": "stream",
     "text": [
      "<class 'pandas.core.frame.DataFrame'>\n",
      "RangeIndex: 1000 entries, 0 to 999\n",
      "Data columns (total 12 columns):\n",
      " #   Column                  Non-Null Count  Dtype \n",
      "---  ------                  --------------  ----- \n",
      " 0   Order ID                1000 non-null   int64 \n",
      " 1   Customer ID             1000 non-null   object\n",
      " 2   Restaurant ID           1000 non-null   object\n",
      " 3   Order Date and Time     1000 non-null   object\n",
      " 4   Delivery Date and Time  1000 non-null   object\n",
      " 5   Order Value             1000 non-null   int64 \n",
      " 6   Delivery Fee            1000 non-null   int64 \n",
      " 7   Payment Method          1000 non-null   object\n",
      " 8   Discounts and Offers    815 non-null    object\n",
      " 9   Commission Fee          1000 non-null   int64 \n",
      " 10  Payment Processing Fee  1000 non-null   int64 \n",
      " 11  Refunds/Chargebacks     1000 non-null   int64 \n",
      "dtypes: int64(6), object(6)\n",
      "memory usage: 93.9+ KB\n"
     ]
    }
   ],
   "source": [
    "df.info()"
   ]
  },
  {
   "cell_type": "code",
   "execution_count": 6,
   "id": "5a8e4b99",
   "metadata": {},
   "outputs": [
    {
     "data": {
      "text/plain": [
       "Order ID                    0\n",
       "Customer ID                 0\n",
       "Restaurant ID               0\n",
       "Order Date and Time         0\n",
       "Delivery Date and Time      0\n",
       "Order Value                 0\n",
       "Delivery Fee                0\n",
       "Payment Method              0\n",
       "Discounts and Offers      185\n",
       "Commission Fee              0\n",
       "Payment Processing Fee      0\n",
       "Refunds/Chargebacks         0\n",
       "dtype: int64"
      ]
     },
     "execution_count": 6,
     "metadata": {},
     "output_type": "execute_result"
    }
   ],
   "source": [
    "# Missing values in 'Discounts and Offers' column, which is ok because not every order uses a discount. \n",
    "# In fact, 815/1000 is a high discount usage rate.\n",
    "\n",
    "df.isnull().sum()"
   ]
  },
  {
   "cell_type": "code",
   "execution_count": null,
   "id": "49165f32",
   "metadata": {},
   "outputs": [
    {
     "data": {
      "application/vnd.microsoft.datawrangler.viewer.v0+json": {
       "columns": [
        {
         "name": "index",
         "rawType": "object",
         "type": "string"
        },
        {
         "name": "Order ID",
         "rawType": "float64",
         "type": "float"
        },
        {
         "name": "Order Value",
         "rawType": "float64",
         "type": "float"
        },
        {
         "name": "Delivery Fee",
         "rawType": "float64",
         "type": "float"
        },
        {
         "name": "Commission Fee",
         "rawType": "float64",
         "type": "float"
        },
        {
         "name": "Payment Processing Fee",
         "rawType": "float64",
         "type": "float"
        },
        {
         "name": "Refunds/Chargebacks",
         "rawType": "float64",
         "type": "float"
        }
       ],
       "conversionMethod": "pd.DataFrame",
       "ref": "81c05cb9-1edd-4cc3-9385-f16cc75de1ff",
       "rows": [
        [
         "count",
         "1000.0",
         "1000.0",
         "1000.0",
         "1000.0",
         "1000.0",
         "1000.0"
        ],
        [
         "mean",
         "500.5",
         "1053.969",
         "28.62",
         "126.99",
         "29.832",
         "28.3"
        ],
        [
         "std",
         "288.8194360957494",
         "530.9753392106359",
         "16.9582777186595",
         "43.06405011622121",
         "11.62716504428173",
         "49.61422751158756"
        ],
        [
         "min",
         "1.0",
         "104.0",
         "0.0",
         "50.0",
         "10.0",
         "0.0"
        ],
        [
         "25%",
         "250.75",
         "597.75",
         "20.0",
         "90.0",
         "20.0",
         "0.0"
        ],
        [
         "50%",
         "500.5",
         "1038.5",
         "30.0",
         "127.0",
         "30.0",
         "0.0"
        ],
        [
         "75%",
         "750.25",
         "1494.0",
         "40.0",
         "164.0",
         "40.0",
         "50.0"
        ],
        [
         "max",
         "1000.0",
         "1995.0",
         "50.0",
         "200.0",
         "50.0",
         "150.0"
        ]
       ],
       "shape": {
        "columns": 6,
        "rows": 8
       }
      },
      "text/html": [
       "<div>\n",
       "<style scoped>\n",
       "    .dataframe tbody tr th:only-of-type {\n",
       "        vertical-align: middle;\n",
       "    }\n",
       "\n",
       "    .dataframe tbody tr th {\n",
       "        vertical-align: top;\n",
       "    }\n",
       "\n",
       "    .dataframe thead th {\n",
       "        text-align: right;\n",
       "    }\n",
       "</style>\n",
       "<table border=\"1\" class=\"dataframe\">\n",
       "  <thead>\n",
       "    <tr style=\"text-align: right;\">\n",
       "      <th></th>\n",
       "      <th>Order ID</th>\n",
       "      <th>Order Value</th>\n",
       "      <th>Delivery Fee</th>\n",
       "      <th>Commission Fee</th>\n",
       "      <th>Payment Processing Fee</th>\n",
       "      <th>Refunds/Chargebacks</th>\n",
       "    </tr>\n",
       "  </thead>\n",
       "  <tbody>\n",
       "    <tr>\n",
       "      <th>count</th>\n",
       "      <td>1000.000000</td>\n",
       "      <td>1000.000000</td>\n",
       "      <td>1000.000000</td>\n",
       "      <td>1000.00000</td>\n",
       "      <td>1000.000000</td>\n",
       "      <td>1000.000000</td>\n",
       "    </tr>\n",
       "    <tr>\n",
       "      <th>mean</th>\n",
       "      <td>500.500000</td>\n",
       "      <td>1053.969000</td>\n",
       "      <td>28.620000</td>\n",
       "      <td>126.99000</td>\n",
       "      <td>29.832000</td>\n",
       "      <td>28.300000</td>\n",
       "    </tr>\n",
       "    <tr>\n",
       "      <th>std</th>\n",
       "      <td>288.819436</td>\n",
       "      <td>530.975339</td>\n",
       "      <td>16.958278</td>\n",
       "      <td>43.06405</td>\n",
       "      <td>11.627165</td>\n",
       "      <td>49.614228</td>\n",
       "    </tr>\n",
       "    <tr>\n",
       "      <th>min</th>\n",
       "      <td>1.000000</td>\n",
       "      <td>104.000000</td>\n",
       "      <td>0.000000</td>\n",
       "      <td>50.00000</td>\n",
       "      <td>10.000000</td>\n",
       "      <td>0.000000</td>\n",
       "    </tr>\n",
       "    <tr>\n",
       "      <th>25%</th>\n",
       "      <td>250.750000</td>\n",
       "      <td>597.750000</td>\n",
       "      <td>20.000000</td>\n",
       "      <td>90.00000</td>\n",
       "      <td>20.000000</td>\n",
       "      <td>0.000000</td>\n",
       "    </tr>\n",
       "    <tr>\n",
       "      <th>50%</th>\n",
       "      <td>500.500000</td>\n",
       "      <td>1038.500000</td>\n",
       "      <td>30.000000</td>\n",
       "      <td>127.00000</td>\n",
       "      <td>30.000000</td>\n",
       "      <td>0.000000</td>\n",
       "    </tr>\n",
       "    <tr>\n",
       "      <th>75%</th>\n",
       "      <td>750.250000</td>\n",
       "      <td>1494.000000</td>\n",
       "      <td>40.000000</td>\n",
       "      <td>164.00000</td>\n",
       "      <td>40.000000</td>\n",
       "      <td>50.000000</td>\n",
       "    </tr>\n",
       "    <tr>\n",
       "      <th>max</th>\n",
       "      <td>1000.000000</td>\n",
       "      <td>1995.000000</td>\n",
       "      <td>50.000000</td>\n",
       "      <td>200.00000</td>\n",
       "      <td>50.000000</td>\n",
       "      <td>150.000000</td>\n",
       "    </tr>\n",
       "  </tbody>\n",
       "</table>\n",
       "</div>"
      ],
      "text/plain": [
       "          Order ID  Order Value  Delivery Fee  Commission Fee  \\\n",
       "count  1000.000000  1000.000000   1000.000000      1000.00000   \n",
       "mean    500.500000  1053.969000     28.620000       126.99000   \n",
       "std     288.819436   530.975339     16.958278        43.06405   \n",
       "min       1.000000   104.000000      0.000000        50.00000   \n",
       "25%     250.750000   597.750000     20.000000        90.00000   \n",
       "50%     500.500000  1038.500000     30.000000       127.00000   \n",
       "75%     750.250000  1494.000000     40.000000       164.00000   \n",
       "max    1000.000000  1995.000000     50.000000       200.00000   \n",
       "\n",
       "       Payment Processing Fee  Refunds/Chargebacks  \n",
       "count             1000.000000          1000.000000  \n",
       "mean                29.832000            28.300000  \n",
       "std                 11.627165            49.614228  \n",
       "min                 10.000000             0.000000  \n",
       "25%                 20.000000             0.000000  \n",
       "50%                 30.000000             0.000000  \n",
       "75%                 40.000000            50.000000  \n",
       "max                 50.000000           150.000000  "
      ]
     },
     "execution_count": 7,
     "metadata": {},
     "output_type": "execute_result"
    }
   ],
   "source": [
    "# Commission fee seems to be around 10% of order value\n",
    "df.describe()"
   ]
  },
  {
   "cell_type": "code",
   "execution_count": 8,
   "id": "3e7d9bd7",
   "metadata": {},
   "outputs": [
    {
     "data": {
      "text/plain": [
       "Index(['order_id', 'customer_id', 'restaurant_id', 'order_date_and_time',\n",
       "       'delivery_date_and_time', 'order_value', 'delivery_fee',\n",
       "       'payment_method', 'discounts_and_offers', 'commission_fee',\n",
       "       'payment_processing_fee', 'refunds/chargebacks'],\n",
       "      dtype='object')"
      ]
     },
     "execution_count": 8,
     "metadata": {},
     "output_type": "execute_result"
    }
   ],
   "source": [
    "df.columns = df.columns.str.lower().str.replace(' ','_')\n",
    "df.columns"
   ]
  },
  {
   "cell_type": "markdown",
   "id": "fc82762e",
   "metadata": {},
   "source": [
    "## 2. Data preprocessing"
   ]
  },
  {
   "cell_type": "code",
   "execution_count": 10,
   "id": "c81c9597",
   "metadata": {},
   "outputs": [],
   "source": [
    "# convert [Order Date and Time] and [Delivery Date and Time] to datetime\n",
    "df['order_date_and_time'] = pd.to_datetime(df['order_date_and_time'])\n",
    "df['delivery_date_and_time'] = pd.to_datetime(df['delivery_date_and_time'])"
   ]
  },
  {
   "cell_type": "code",
   "execution_count": 11,
   "id": "38944c99",
   "metadata": {},
   "outputs": [
    {
     "data": {
      "text/plain": [
       "order_id                           int64\n",
       "customer_id                       object\n",
       "restaurant_id                     object\n",
       "order_date_and_time       datetime64[ns]\n",
       "delivery_date_and_time    datetime64[ns]\n",
       "order_value                        int64\n",
       "delivery_fee                       int64\n",
       "payment_method                    object\n",
       "discounts_and_offers              object\n",
       "commission_fee                     int64\n",
       "payment_processing_fee             int64\n",
       "refunds/chargebacks                int64\n",
       "dtype: object"
      ]
     },
     "execution_count": 11,
     "metadata": {},
     "output_type": "execute_result"
    }
   ],
   "source": [
    "df.dtypes"
   ]
  },
  {
   "cell_type": "markdown",
   "id": "473b2843",
   "metadata": {},
   "source": [
    "### 2.1 Calculate Profits = Revenue - Cost"
   ]
  },
  {
   "cell_type": "code",
   "execution_count": 13,
   "id": "c29a2b2b",
   "metadata": {},
   "outputs": [
    {
     "data": {
      "text/plain": [
       "discounts_and_offers\n",
       "10%             233\n",
       "50 off Promo    201\n",
       "15% New User    198\n",
       "5% on App       183\n",
       "Name: count, dtype: int64"
      ]
     },
     "execution_count": 13,
     "metadata": {},
     "output_type": "execute_result"
    }
   ],
   "source": [
    "# Costs = Delivery Fee + Payment Processing Fee + Discount Amount, where total discount includes ['discounts and offers'] & ['refunds/chargebacks']\n",
    "\n",
    "# Check ['discounts and offer'] column\n",
    "df['discounts_and_offers'].value_counts()"
   ]
  },
  {
   "cell_type": "code",
   "execution_count": 14,
   "id": "6e5ef4fd",
   "metadata": {},
   "outputs": [
    {
     "data": {
      "application/vnd.microsoft.datawrangler.viewer.v0+json": {
       "columns": [
        {
         "name": "index",
         "rawType": "int64",
         "type": "integer"
        },
        {
         "name": "discount_pct",
         "rawType": "int64",
         "type": "integer"
        },
        {
         "name": "discount_cash",
         "rawType": "int64",
         "type": "integer"
        }
       ],
       "conversionMethod": "pd.DataFrame",
       "ref": "eafdae6c-02ad-4f42-9e99-994219f628b7",
       "rows": [
        [
         "0",
         "5",
         "0"
        ],
        [
         "1",
         "10",
         "0"
        ],
        [
         "2",
         "15",
         "0"
        ],
        [
         "3",
         "0",
         "0"
        ],
        [
         "4",
         "0",
         "50"
        ],
        [
         "5",
         "10",
         "0"
        ],
        [
         "6",
         "5",
         "0"
        ],
        [
         "7",
         "10",
         "0"
        ],
        [
         "8",
         "5",
         "0"
        ],
        [
         "9",
         "10",
         "0"
        ],
        [
         "10",
         "5",
         "0"
        ],
        [
         "11",
         "15",
         "0"
        ],
        [
         "12",
         "0",
         "0"
        ],
        [
         "13",
         "15",
         "0"
        ],
        [
         "14",
         "0",
         "0"
        ],
        [
         "15",
         "15",
         "0"
        ],
        [
         "16",
         "15",
         "0"
        ],
        [
         "17",
         "10",
         "0"
        ],
        [
         "18",
         "0",
         "50"
        ],
        [
         "19",
         "5",
         "0"
        ],
        [
         "20",
         "5",
         "0"
        ],
        [
         "21",
         "5",
         "0"
        ],
        [
         "22",
         "0",
         "0"
        ],
        [
         "23",
         "5",
         "0"
        ],
        [
         "24",
         "5",
         "0"
        ],
        [
         "25",
         "10",
         "0"
        ],
        [
         "26",
         "15",
         "0"
        ],
        [
         "27",
         "5",
         "0"
        ],
        [
         "28",
         "0",
         "50"
        ],
        [
         "29",
         "5",
         "0"
        ],
        [
         "30",
         "0",
         "0"
        ],
        [
         "31",
         "0",
         "0"
        ],
        [
         "32",
         "0",
         "0"
        ],
        [
         "33",
         "5",
         "0"
        ],
        [
         "34",
         "10",
         "0"
        ],
        [
         "35",
         "0",
         "50"
        ],
        [
         "36",
         "5",
         "0"
        ],
        [
         "37",
         "10",
         "0"
        ],
        [
         "38",
         "10",
         "0"
        ],
        [
         "39",
         "5",
         "0"
        ],
        [
         "40",
         "5",
         "0"
        ],
        [
         "41",
         "10",
         "0"
        ],
        [
         "42",
         "10",
         "0"
        ],
        [
         "43",
         "10",
         "0"
        ],
        [
         "44",
         "5",
         "0"
        ],
        [
         "45",
         "10",
         "0"
        ],
        [
         "46",
         "0",
         "0"
        ],
        [
         "47",
         "5",
         "0"
        ],
        [
         "48",
         "0",
         "0"
        ],
        [
         "49",
         "15",
         "0"
        ]
       ],
       "shape": {
        "columns": 2,
        "rows": 1000
       }
      },
      "text/html": [
       "<div>\n",
       "<style scoped>\n",
       "    .dataframe tbody tr th:only-of-type {\n",
       "        vertical-align: middle;\n",
       "    }\n",
       "\n",
       "    .dataframe tbody tr th {\n",
       "        vertical-align: top;\n",
       "    }\n",
       "\n",
       "    .dataframe thead th {\n",
       "        text-align: right;\n",
       "    }\n",
       "</style>\n",
       "<table border=\"1\" class=\"dataframe\">\n",
       "  <thead>\n",
       "    <tr style=\"text-align: right;\">\n",
       "      <th></th>\n",
       "      <th>discount_pct</th>\n",
       "      <th>discount_cash</th>\n",
       "    </tr>\n",
       "  </thead>\n",
       "  <tbody>\n",
       "    <tr>\n",
       "      <th>0</th>\n",
       "      <td>5</td>\n",
       "      <td>0</td>\n",
       "    </tr>\n",
       "    <tr>\n",
       "      <th>1</th>\n",
       "      <td>10</td>\n",
       "      <td>0</td>\n",
       "    </tr>\n",
       "    <tr>\n",
       "      <th>2</th>\n",
       "      <td>15</td>\n",
       "      <td>0</td>\n",
       "    </tr>\n",
       "    <tr>\n",
       "      <th>3</th>\n",
       "      <td>0</td>\n",
       "      <td>0</td>\n",
       "    </tr>\n",
       "    <tr>\n",
       "      <th>4</th>\n",
       "      <td>0</td>\n",
       "      <td>50</td>\n",
       "    </tr>\n",
       "    <tr>\n",
       "      <th>...</th>\n",
       "      <td>...</td>\n",
       "      <td>...</td>\n",
       "    </tr>\n",
       "    <tr>\n",
       "      <th>995</th>\n",
       "      <td>5</td>\n",
       "      <td>0</td>\n",
       "    </tr>\n",
       "    <tr>\n",
       "      <th>996</th>\n",
       "      <td>0</td>\n",
       "      <td>0</td>\n",
       "    </tr>\n",
       "    <tr>\n",
       "      <th>997</th>\n",
       "      <td>0</td>\n",
       "      <td>0</td>\n",
       "    </tr>\n",
       "    <tr>\n",
       "      <th>998</th>\n",
       "      <td>15</td>\n",
       "      <td>0</td>\n",
       "    </tr>\n",
       "    <tr>\n",
       "      <th>999</th>\n",
       "      <td>15</td>\n",
       "      <td>0</td>\n",
       "    </tr>\n",
       "  </tbody>\n",
       "</table>\n",
       "<p>1000 rows × 2 columns</p>\n",
       "</div>"
      ],
      "text/plain": [
       "     discount_pct  discount_cash\n",
       "0               5              0\n",
       "1              10              0\n",
       "2              15              0\n",
       "3               0              0\n",
       "4               0             50\n",
       "..            ...            ...\n",
       "995             5              0\n",
       "996             0              0\n",
       "997             0              0\n",
       "998            15              0\n",
       "999            15              0\n",
       "\n",
       "[1000 rows x 2 columns]"
      ]
     },
     "execution_count": 14,
     "metadata": {},
     "output_type": "execute_result"
    }
   ],
   "source": [
    "# extract percentage discounts\n",
    "def extract_percentage(offer):\n",
    "    offer = str(offer)\n",
    "    if '%' in offer:\n",
    "        return int(str(offer).split('%')[0])\n",
    "    return 0\n",
    "\n",
    "# extract cash discounts\n",
    "def extract_cash(offer):\n",
    "    offer = str(offer)\n",
    "    words = offer.split()\n",
    "    for word in words:\n",
    "        if word.isdigit():\n",
    "            return int(word)\n",
    "    return 0\n",
    "\n",
    "# Create new columns\n",
    "df['discount_pct'] = df['discounts_and_offers'].apply(extract_percentage)\n",
    "df['discount_cash'] = df['discounts_and_offers'].apply(extract_cash)\n",
    "\n",
    "df[['discount_pct', 'discount_cash']]"
   ]
  },
  {
   "cell_type": "code",
   "execution_count": 15,
   "id": "d203facd",
   "metadata": {},
   "outputs": [
    {
     "data": {
      "text/plain": [
       "<matplotlib.legend.Legend at 0x25f3fd10c20>"
      ]
     },
     "execution_count": 15,
     "metadata": {},
     "output_type": "execute_result"
    },
    {
     "data": {
      "image/png": "[encoded data removed]",
      "text/plain": [
       "<Figure size 600x400 with 1 Axes>"
      ]
     },
     "metadata": {},
     "output_type": "display_data"
    }
   ],
   "source": [
    "plt.figure(figsize=(6,4))\n",
    "sns.histplot(df['delivery_fee'], kde=False, color='blue', label='Delivery Fee', alpha=0.5, element=\"step\")\n",
    "sns.histplot(df['payment_processing_fee'], kde=False, color='red', label='Payment Processing Fee', alpha=0.5, element=\"step\")\n",
    "\n",
    "plt.legend(loc='upper left', bbox_to_anchor=(1,1))"
   ]
  },
  {
   "cell_type": "code",
   "execution_count": 16,
   "id": "7bf3c8de",
   "metadata": {},
   "outputs": [
    {
     "data": {
      "application/vnd.microsoft.datawrangler.viewer.v0+json": {
       "columns": [
        {
         "name": "index",
         "rawType": "int64",
         "type": "integer"
        },
        {
         "name": "order_id",
         "rawType": "int64",
         "type": "integer"
        },
        {
         "name": "customer_id",
         "rawType": "object",
         "type": "string"
        },
        {
         "name": "restaurant_id",
         "rawType": "object",
         "type": "string"
        },
        {
         "name": "order_date_and_time",
         "rawType": "datetime64[ns]",
         "type": "datetime"
        },
        {
         "name": "delivery_date_and_time",
         "rawType": "datetime64[ns]",
         "type": "datetime"
        },
        {
         "name": "order_value",
         "rawType": "int64",
         "type": "integer"
        },
        {
         "name": "delivery_fee",
         "rawType": "int64",
         "type": "integer"
        },
        {
         "name": "payment_method",
         "rawType": "object",
         "type": "string"
        },
        {
         "name": "discounts_and_offers",
         "rawType": "object",
         "type": "unknown"
        },
        {
         "name": "commission_fee",
         "rawType": "int64",
         "type": "integer"
        },
        {
         "name": "payment_processing_fee",
         "rawType": "int64",
         "type": "integer"
        },
        {
         "name": "refunds/chargebacks",
         "rawType": "int64",
         "type": "integer"
        },
        {
         "name": "discount_pct",
         "rawType": "int64",
         "type": "integer"
        },
        {
         "name": "discount_cash",
         "rawType": "int64",
         "type": "integer"
        },
        {
         "name": "cost",
         "rawType": "float64",
         "type": "float"
        }
       ],
       "conversionMethod": "pd.DataFrame",
       "ref": "5d428e68-d88d-4fda-a988-18d8796f4de5",
       "rows": [
        [
         "0",
         "1",
         "C8270",
         "R2924",
         "2024-02-01 01:11:52",
         "2024-02-01 02:39:52",
         "1914",
         "0",
         "Credit Card",
         "5% on App",
         "150",
         "47",
         "0",
         "5",
         "0",
         "49.35"
        ],
        [
         "1",
         "2",
         "C1860",
         "R2054",
         "2024-02-02 22:11:04",
         "2024-02-02 22:46:04",
         "986",
         "40",
         "Digital Wallet",
         "10%",
         "198",
         "23",
         "0",
         "10",
         "0",
         "69.3"
        ],
        [
         "2",
         "3",
         "C6390",
         "R2870",
         "2024-01-31 05:54:35",
         "2024-01-31 06:52:35",
         "937",
         "30",
         "Cash on Delivery",
         "15% New User",
         "195",
         "45",
         "0",
         "15",
         "0",
         "86.25"
        ],
        [
         "3",
         "4",
         "C6191",
         "R2642",
         "2024-01-16 22:52:49",
         "2024-01-16 23:38:49",
         "1463",
         "50",
         "Cash on Delivery",
         null,
         "146",
         "27",
         "0",
         "0",
         "0",
         "77.0"
        ],
        [
         "4",
         "5",
         "C6734",
         "R2799",
         "2024-01-29 01:19:30",
         "2024-01-29 02:48:30",
         "1992",
         "30",
         "Cash on Delivery",
         "50 off Promo",
         "130",
         "50",
         "0",
         "0",
         "50",
         "130.0"
        ]
       ],
       "shape": {
        "columns": 15,
        "rows": 5
       }
      },
      "text/html": [
       "<div>\n",
       "<style scoped>\n",
       "    .dataframe tbody tr th:only-of-type {\n",
       "        vertical-align: middle;\n",
       "    }\n",
       "\n",
       "    .dataframe tbody tr th {\n",
       "        vertical-align: top;\n",
       "    }\n",
       "\n",
       "    .dataframe thead th {\n",
       "        text-align: right;\n",
       "    }\n",
       "</style>\n",
       "<table border=\"1\" class=\"dataframe\">\n",
       "  <thead>\n",
       "    <tr style=\"text-align: right;\">\n",
       "      <th></th>\n",
       "      <th>order_id</th>\n",
       "      <th>customer_id</th>\n",
       "      <th>restaurant_id</th>\n",
       "      <th>order_date_and_time</th>\n",
       "      <th>delivery_date_and_time</th>\n",
       "      <th>order_value</th>\n",
       "      <th>delivery_fee</th>\n",
       "      <th>payment_method</th>\n",
       "      <th>discounts_and_offers</th>\n",
       "      <th>commission_fee</th>\n",
       "      <th>payment_processing_fee</th>\n",
       "      <th>refunds/chargebacks</th>\n",
       "      <th>discount_pct</th>\n",
       "      <th>discount_cash</th>\n",
       "      <th>cost</th>\n",
       "    </tr>\n",
       "  </thead>\n",
       "  <tbody>\n",
       "    <tr>\n",
       "      <th>0</th>\n",
       "      <td>1</td>\n",
       "      <td>C8270</td>\n",
       "      <td>R2924</td>\n",
       "      <td>2024-02-01 01:11:52</td>\n",
       "      <td>2024-02-01 02:39:52</td>\n",
       "      <td>1914</td>\n",
       "      <td>0</td>\n",
       "      <td>Credit Card</td>\n",
       "      <td>5% on App</td>\n",
       "      <td>150</td>\n",
       "      <td>47</td>\n",
       "      <td>0</td>\n",
       "      <td>5</td>\n",
       "      <td>0</td>\n",
       "      <td>49.35</td>\n",
       "    </tr>\n",
       "    <tr>\n",
       "      <th>1</th>\n",
       "      <td>2</td>\n",
       "      <td>C1860</td>\n",
       "      <td>R2054</td>\n",
       "      <td>2024-02-02 22:11:04</td>\n",
       "      <td>2024-02-02 22:46:04</td>\n",
       "      <td>986</td>\n",
       "      <td>40</td>\n",
       "      <td>Digital Wallet</td>\n",
       "      <td>10%</td>\n",
       "      <td>198</td>\n",
       "      <td>23</td>\n",
       "      <td>0</td>\n",
       "      <td>10</td>\n",
       "      <td>0</td>\n",
       "      <td>69.30</td>\n",
       "    </tr>\n",
       "    <tr>\n",
       "      <th>2</th>\n",
       "      <td>3</td>\n",
       "      <td>C6390</td>\n",
       "      <td>R2870</td>\n",
       "      <td>2024-01-31 05:54:35</td>\n",
       "      <td>2024-01-31 06:52:35</td>\n",
       "      <td>937</td>\n",
       "      <td>30</td>\n",
       "      <td>Cash on Delivery</td>\n",
       "      <td>15% New User</td>\n",
       "      <td>195</td>\n",
       "      <td>45</td>\n",
       "      <td>0</td>\n",
       "      <td>15</td>\n",
       "      <td>0</td>\n",
       "      <td>86.25</td>\n",
       "    </tr>\n",
       "    <tr>\n",
       "      <th>3</th>\n",
       "      <td>4</td>\n",
       "      <td>C6191</td>\n",
       "      <td>R2642</td>\n",
       "      <td>2024-01-16 22:52:49</td>\n",
       "      <td>2024-01-16 23:38:49</td>\n",
       "      <td>1463</td>\n",
       "      <td>50</td>\n",
       "      <td>Cash on Delivery</td>\n",
       "      <td>NaN</td>\n",
       "      <td>146</td>\n",
       "      <td>27</td>\n",
       "      <td>0</td>\n",
       "      <td>0</td>\n",
       "      <td>0</td>\n",
       "      <td>77.00</td>\n",
       "    </tr>\n",
       "    <tr>\n",
       "      <th>4</th>\n",
       "      <td>5</td>\n",
       "      <td>C6734</td>\n",
       "      <td>R2799</td>\n",
       "      <td>2024-01-29 01:19:30</td>\n",
       "      <td>2024-01-29 02:48:30</td>\n",
       "      <td>1992</td>\n",
       "      <td>30</td>\n",
       "      <td>Cash on Delivery</td>\n",
       "      <td>50 off Promo</td>\n",
       "      <td>130</td>\n",
       "      <td>50</td>\n",
       "      <td>0</td>\n",
       "      <td>0</td>\n",
       "      <td>50</td>\n",
       "      <td>130.00</td>\n",
       "    </tr>\n",
       "  </tbody>\n",
       "</table>\n",
       "</div>"
      ],
      "text/plain": [
       "   order_id customer_id restaurant_id order_date_and_time  \\\n",
       "0         1       C8270         R2924 2024-02-01 01:11:52   \n",
       "1         2       C1860         R2054 2024-02-02 22:11:04   \n",
       "2         3       C6390         R2870 2024-01-31 05:54:35   \n",
       "3         4       C6191         R2642 2024-01-16 22:52:49   \n",
       "4         5       C6734         R2799 2024-01-29 01:19:30   \n",
       "\n",
       "  delivery_date_and_time  order_value  delivery_fee    payment_method  \\\n",
       "0    2024-02-01 02:39:52         1914             0       Credit Card   \n",
       "1    2024-02-02 22:46:04          986            40    Digital Wallet   \n",
       "2    2024-01-31 06:52:35          937            30  Cash on Delivery   \n",
       "3    2024-01-16 23:38:49         1463            50  Cash on Delivery   \n",
       "4    2024-01-29 02:48:30         1992            30  Cash on Delivery   \n",
       "\n",
       "  discounts_and_offers  commission_fee  payment_processing_fee  \\\n",
       "0            5% on App             150                      47   \n",
       "1                  10%             198                      23   \n",
       "2         15% New User             195                      45   \n",
       "3                  NaN             146                      27   \n",
       "4         50 off Promo             130                      50   \n",
       "\n",
       "   refunds/chargebacks  discount_pct  discount_cash    cost  \n",
       "0                    0             5              0   49.35  \n",
       "1                    0            10              0   69.30  \n",
       "2                    0            15              0   86.25  \n",
       "3                    0             0              0   77.00  \n",
       "4                    0             0             50  130.00  "
      ]
     },
     "execution_count": 16,
     "metadata": {},
     "output_type": "execute_result"
    }
   ],
   "source": [
    "# cost = (delivery fee + payment processing fee + discounts_cash) * (discounts_pct)\n",
    "df['cost'] = (df['delivery_fee'] + df['payment_processing_fee'] + df['discount_cash']) * (100 + df['discount_pct']) / 100\n",
    "df.head()"
   ]
  },
  {
   "cell_type": "code",
   "execution_count": 17,
   "id": "9030f22a",
   "metadata": {},
   "outputs": [
    {
     "data": {
      "application/vnd.microsoft.datawrangler.viewer.v0+json": {
       "columns": [
        {
         "name": "index",
         "rawType": "int64",
         "type": "integer"
        },
        {
         "name": "order_id",
         "rawType": "int64",
         "type": "integer"
        },
        {
         "name": "customer_id",
         "rawType": "object",
         "type": "string"
        },
        {
         "name": "restaurant_id",
         "rawType": "object",
         "type": "string"
        },
        {
         "name": "order_date_and_time",
         "rawType": "datetime64[ns]",
         "type": "datetime"
        },
        {
         "name": "delivery_date_and_time",
         "rawType": "datetime64[ns]",
         "type": "datetime"
        },
        {
         "name": "order_value",
         "rawType": "int64",
         "type": "integer"
        },
        {
         "name": "delivery_fee",
         "rawType": "int64",
         "type": "integer"
        },
        {
         "name": "payment_method",
         "rawType": "object",
         "type": "string"
        },
        {
         "name": "discounts_and_offers",
         "rawType": "object",
         "type": "unknown"
        },
        {
         "name": "commission_fee",
         "rawType": "int64",
         "type": "integer"
        },
        {
         "name": "payment_processing_fee",
         "rawType": "int64",
         "type": "integer"
        },
        {
         "name": "refunds/chargebacks",
         "rawType": "int64",
         "type": "integer"
        },
        {
         "name": "discount_pct",
         "rawType": "int64",
         "type": "integer"
        },
        {
         "name": "discount_cash",
         "rawType": "int64",
         "type": "integer"
        },
        {
         "name": "cost",
         "rawType": "float64",
         "type": "float"
        },
        {
         "name": "revenue",
         "rawType": "int64",
         "type": "integer"
        },
        {
         "name": "profits",
         "rawType": "float64",
         "type": "float"
        },
        {
         "name": "have_profits",
         "rawType": "int64",
         "type": "integer"
        }
       ],
       "conversionMethod": "pd.DataFrame",
       "ref": "f54a26ed-33c2-4c90-bbc1-748e5fd171a1",
       "rows": [
        [
         "0",
         "1",
         "C8270",
         "R2924",
         "2024-02-01 01:11:52",
         "2024-02-01 02:39:52",
         "1914",
         "0",
         "Credit Card",
         "5% on App",
         "150",
         "47",
         "0",
         "5",
         "0",
         "49.35",
         "150",
         "100.65",
         "1"
        ],
        [
         "1",
         "2",
         "C1860",
         "R2054",
         "2024-02-02 22:11:04",
         "2024-02-02 22:46:04",
         "986",
         "40",
         "Digital Wallet",
         "10%",
         "198",
         "23",
         "0",
         "10",
         "0",
         "69.3",
         "198",
         "128.7",
         "1"
        ],
        [
         "2",
         "3",
         "C6390",
         "R2870",
         "2024-01-31 05:54:35",
         "2024-01-31 06:52:35",
         "937",
         "30",
         "Cash on Delivery",
         "15% New User",
         "195",
         "45",
         "0",
         "15",
         "0",
         "86.25",
         "195",
         "108.75",
         "1"
        ],
        [
         "3",
         "4",
         "C6191",
         "R2642",
         "2024-01-16 22:52:49",
         "2024-01-16 23:38:49",
         "1463",
         "50",
         "Cash on Delivery",
         null,
         "146",
         "27",
         "0",
         "0",
         "0",
         "77.0",
         "146",
         "69.0",
         "1"
        ],
        [
         "4",
         "5",
         "C6734",
         "R2799",
         "2024-01-29 01:19:30",
         "2024-01-29 02:48:30",
         "1992",
         "30",
         "Cash on Delivery",
         "50 off Promo",
         "130",
         "50",
         "0",
         "0",
         "50",
         "130.0",
         "130",
         "0.0",
         "0"
        ]
       ],
       "shape": {
        "columns": 18,
        "rows": 5
       }
      },
      "text/html": [
       "<div>\n",
       "<style scoped>\n",
       "    .dataframe tbody tr th:only-of-type {\n",
       "        vertical-align: middle;\n",
       "    }\n",
       "\n",
       "    .dataframe tbody tr th {\n",
       "        vertical-align: top;\n",
       "    }\n",
       "\n",
       "    .dataframe thead th {\n",
       "        text-align: right;\n",
       "    }\n",
       "</style>\n",
       "<table border=\"1\" class=\"dataframe\">\n",
       "  <thead>\n",
       "    <tr style=\"text-align: right;\">\n",
       "      <th></th>\n",
       "      <th>order_id</th>\n",
       "      <th>customer_id</th>\n",
       "      <th>restaurant_id</th>\n",
       "      <th>order_date_and_time</th>\n",
       "      <th>delivery_date_and_time</th>\n",
       "      <th>order_value</th>\n",
       "      <th>delivery_fee</th>\n",
       "      <th>payment_method</th>\n",
       "      <th>discounts_and_offers</th>\n",
       "      <th>commission_fee</th>\n",
       "      <th>payment_processing_fee</th>\n",
       "      <th>refunds/chargebacks</th>\n",
       "      <th>discount_pct</th>\n",
       "      <th>discount_cash</th>\n",
       "      <th>cost</th>\n",
       "      <th>revenue</th>\n",
       "      <th>profits</th>\n",
       "      <th>have_profits</th>\n",
       "    </tr>\n",
       "  </thead>\n",
       "  <tbody>\n",
       "    <tr>\n",
       "      <th>0</th>\n",
       "      <td>1</td>\n",
       "      <td>C8270</td>\n",
       "      <td>R2924</td>\n",
       "      <td>2024-02-01 01:11:52</td>\n",
       "      <td>2024-02-01 02:39:52</td>\n",
       "      <td>1914</td>\n",
       "      <td>0</td>\n",
       "      <td>Credit Card</td>\n",
       "      <td>5% on App</td>\n",
       "      <td>150</td>\n",
       "      <td>47</td>\n",
       "      <td>0</td>\n",
       "      <td>5</td>\n",
       "      <td>0</td>\n",
       "      <td>49.35</td>\n",
       "      <td>150</td>\n",
       "      <td>100.65</td>\n",
       "      <td>1</td>\n",
       "    </tr>\n",
       "    <tr>\n",
       "      <th>1</th>\n",
       "      <td>2</td>\n",
       "      <td>C1860</td>\n",
       "      <td>R2054</td>\n",
       "      <td>2024-02-02 22:11:04</td>\n",
       "      <td>2024-02-02 22:46:04</td>\n",
       "      <td>986</td>\n",
       "      <td>40</td>\n",
       "      <td>Digital Wallet</td>\n",
       "      <td>10%</td>\n",
       "      <td>198</td>\n",
       "      <td>23</td>\n",
       "      <td>0</td>\n",
       "      <td>10</td>\n",
       "      <td>0</td>\n",
       "      <td>69.30</td>\n",
       "      <td>198</td>\n",
       "      <td>128.70</td>\n",
       "      <td>1</td>\n",
       "    </tr>\n",
       "    <tr>\n",
       "      <th>2</th>\n",
       "      <td>3</td>\n",
       "      <td>C6390</td>\n",
       "      <td>R2870</td>\n",
       "      <td>2024-01-31 05:54:35</td>\n",
       "      <td>2024-01-31 06:52:35</td>\n",
       "      <td>937</td>\n",
       "      <td>30</td>\n",
       "      <td>Cash on Delivery</td>\n",
       "      <td>15% New User</td>\n",
       "      <td>195</td>\n",
       "      <td>45</td>\n",
       "      <td>0</td>\n",
       "      <td>15</td>\n",
       "      <td>0</td>\n",
       "      <td>86.25</td>\n",
       "      <td>195</td>\n",
       "      <td>108.75</td>\n",
       "      <td>1</td>\n",
       "    </tr>\n",
       "    <tr>\n",
       "      <th>3</th>\n",
       "      <td>4</td>\n",
       "      <td>C6191</td>\n",
       "      <td>R2642</td>\n",
       "      <td>2024-01-16 22:52:49</td>\n",
       "      <td>2024-01-16 23:38:49</td>\n",
       "      <td>1463</td>\n",
       "      <td>50</td>\n",
       "      <td>Cash on Delivery</td>\n",
       "      <td>NaN</td>\n",
       "      <td>146</td>\n",
       "      <td>27</td>\n",
       "      <td>0</td>\n",
       "      <td>0</td>\n",
       "      <td>0</td>\n",
       "      <td>77.00</td>\n",
       "      <td>146</td>\n",
       "      <td>69.00</td>\n",
       "      <td>1</td>\n",
       "    </tr>\n",
       "    <tr>\n",
       "      <th>4</th>\n",
       "      <td>5</td>\n",
       "      <td>C6734</td>\n",
       "      <td>R2799</td>\n",
       "      <td>2024-01-29 01:19:30</td>\n",
       "      <td>2024-01-29 02:48:30</td>\n",
       "      <td>1992</td>\n",
       "      <td>30</td>\n",
       "      <td>Cash on Delivery</td>\n",
       "      <td>50 off Promo</td>\n",
       "      <td>130</td>\n",
       "      <td>50</td>\n",
       "      <td>0</td>\n",
       "      <td>0</td>\n",
       "      <td>50</td>\n",
       "      <td>130.00</td>\n",
       "      <td>130</td>\n",
       "      <td>0.00</td>\n",
       "      <td>0</td>\n",
       "    </tr>\n",
       "  </tbody>\n",
       "</table>\n",
       "</div>"
      ],
      "text/plain": [
       "   order_id customer_id restaurant_id order_date_and_time  \\\n",
       "0         1       C8270         R2924 2024-02-01 01:11:52   \n",
       "1         2       C1860         R2054 2024-02-02 22:11:04   \n",
       "2         3       C6390         R2870 2024-01-31 05:54:35   \n",
       "3         4       C6191         R2642 2024-01-16 22:52:49   \n",
       "4         5       C6734         R2799 2024-01-29 01:19:30   \n",
       "\n",
       "  delivery_date_and_time  order_value  delivery_fee    payment_method  \\\n",
       "0    2024-02-01 02:39:52         1914             0       Credit Card   \n",
       "1    2024-02-02 22:46:04          986            40    Digital Wallet   \n",
       "2    2024-01-31 06:52:35          937            30  Cash on Delivery   \n",
       "3    2024-01-16 23:38:49         1463            50  Cash on Delivery   \n",
       "4    2024-01-29 02:48:30         1992            30  Cash on Delivery   \n",
       "\n",
       "  discounts_and_offers  commission_fee  payment_processing_fee  \\\n",
       "0            5% on App             150                      47   \n",
       "1                  10%             198                      23   \n",
       "2         15% New User             195                      45   \n",
       "3                  NaN             146                      27   \n",
       "4         50 off Promo             130                      50   \n",
       "\n",
       "   refunds/chargebacks  discount_pct  discount_cash    cost  revenue  profits  \\\n",
       "0                    0             5              0   49.35      150   100.65   \n",
       "1                    0            10              0   69.30      198   128.70   \n",
       "2                    0            15              0   86.25      195   108.75   \n",
       "3                    0             0              0   77.00      146    69.00   \n",
       "4                    0             0             50  130.00      130     0.00   \n",
       "\n",
       "   have_profits  \n",
       "0             1  \n",
       "1             1  \n",
       "2             1  \n",
       "3             1  \n",
       "4             0  "
      ]
     },
     "execution_count": 17,
     "metadata": {},
     "output_type": "execute_result"
    }
   ],
   "source": [
    "# revenue = commission fee\n",
    "df['revenue'] = df['commission_fee']\n",
    "\n",
    "# profits\n",
    "df['profits'] = df['revenue'] - df['cost']\n",
    "df['have_profits'] = df['profits'].apply(lambda x: 1 if x > 0 else 0)\n",
    "\n",
    "df.head()"
   ]
  },
  {
   "cell_type": "markdown",
   "id": "9037f8d8",
   "metadata": {},
   "source": [
    "## 3. Exploratory data analysis"
   ]
  },
  {
   "cell_type": "markdown",
   "id": "73fc01bc",
   "metadata": {},
   "source": [
    "### 3.1 Correlation matrix"
   ]
  },
  {
   "cell_type": "code",
   "execution_count": 18,
   "id": "42717ca6",
   "metadata": {},
   "outputs": [
    {
     "data": {
      "text/plain": [
       "<Axes: >"
      ]
     },
     "execution_count": 18,
     "metadata": {},
     "output_type": "execute_result"
    },
    {
     "data": {
      "image/png": "[encoded data removed]",
      "text/plain": [
       "<Figure size 600x600 with 2 Axes>"
      ]
     },
     "metadata": {},
     "output_type": "display_data"
    }
   ],
   "source": [
    "plt.figure(figsize=(6,6))\n",
    "sns.heatmap(df.select_dtypes(include=['number']).corr(), annot=True, fmt='.1f')"
   ]
  },
  {
   "cell_type": "markdown",
   "id": "702ad7c8",
   "metadata": {},
   "source": [
    "### 3.2 Cost Analysis"
   ]
  },
  {
   "cell_type": "code",
   "execution_count": 19,
   "id": "462587d5",
   "metadata": {},
   "outputs": [
    {
     "data": {
      "application/vnd.microsoft.datawrangler.viewer.v0+json": {
       "columns": [
        {
         "name": "index",
         "rawType": "int64",
         "type": "integer"
        },
        {
         "name": "cost",
         "rawType": "float64",
         "type": "float"
        },
        {
         "name": "discounts_and_offers",
         "rawType": "object",
         "type": "unknown"
        },
        {
         "name": "profits",
         "rawType": "float64",
         "type": "float"
        }
       ],
       "conversionMethod": "pd.DataFrame",
       "ref": "43ff4a7e-08f8-4df6-8f3c-7c2d2dcdd7fb",
       "rows": [
        [
         "0",
         "49.35",
         "5% on App",
         "100.65"
        ],
        [
         "1",
         "69.3",
         "10%",
         "128.7"
        ],
        [
         "2",
         "86.25",
         "15% New User",
         "108.75"
        ],
        [
         "3",
         "77.0",
         null,
         "69.0"
        ],
        [
         "4",
         "130.0",
         "50 off Promo",
         "0.0"
        ]
       ],
       "shape": {
        "columns": 3,
        "rows": 5
       }
      },
      "text/html": [
       "<div>\n",
       "<style scoped>\n",
       "    .dataframe tbody tr th:only-of-type {\n",
       "        vertical-align: middle;\n",
       "    }\n",
       "\n",
       "    .dataframe tbody tr th {\n",
       "        vertical-align: top;\n",
       "    }\n",
       "\n",
       "    .dataframe thead th {\n",
       "        text-align: right;\n",
       "    }\n",
       "</style>\n",
       "<table border=\"1\" class=\"dataframe\">\n",
       "  <thead>\n",
       "    <tr style=\"text-align: right;\">\n",
       "      <th></th>\n",
       "      <th>cost</th>\n",
       "      <th>discounts_and_offers</th>\n",
       "      <th>profits</th>\n",
       "    </tr>\n",
       "  </thead>\n",
       "  <tbody>\n",
       "    <tr>\n",
       "      <th>0</th>\n",
       "      <td>49.35</td>\n",
       "      <td>5% on App</td>\n",
       "      <td>100.65</td>\n",
       "    </tr>\n",
       "    <tr>\n",
       "      <th>1</th>\n",
       "      <td>69.30</td>\n",
       "      <td>10%</td>\n",
       "      <td>128.70</td>\n",
       "    </tr>\n",
       "    <tr>\n",
       "      <th>2</th>\n",
       "      <td>86.25</td>\n",
       "      <td>15% New User</td>\n",
       "      <td>108.75</td>\n",
       "    </tr>\n",
       "    <tr>\n",
       "      <th>3</th>\n",
       "      <td>77.00</td>\n",
       "      <td>NaN</td>\n",
       "      <td>69.00</td>\n",
       "    </tr>\n",
       "    <tr>\n",
       "      <th>4</th>\n",
       "      <td>130.00</td>\n",
       "      <td>50 off Promo</td>\n",
       "      <td>0.00</td>\n",
       "    </tr>\n",
       "  </tbody>\n",
       "</table>\n",
       "</div>"
      ],
      "text/plain": [
       "     cost discounts_and_offers  profits\n",
       "0   49.35            5% on App   100.65\n",
       "1   69.30                  10%   128.70\n",
       "2   86.25         15% New User   108.75\n",
       "3   77.00                  NaN    69.00\n",
       "4  130.00         50 off Promo     0.00"
      ]
     },
     "execution_count": 19,
     "metadata": {},
     "output_type": "execute_result"
    }
   ],
   "source": [
    "# offers vs cost and profit\n",
    "df[['cost', 'discounts_and_offers', 'profits']].head()"
   ]
  },
  {
   "cell_type": "code",
   "execution_count": 20,
   "id": "fde07984",
   "metadata": {},
   "outputs": [
    {
     "data": {
      "application/vnd.microsoft.datawrangler.viewer.v0+json": {
       "columns": [
        {
         "name": "index",
         "rawType": "int64",
         "type": "integer"
        },
        {
         "name": "order_id",
         "rawType": "int64",
         "type": "integer"
        },
        {
         "name": "customer_id",
         "rawType": "object",
         "type": "string"
        },
        {
         "name": "restaurant_id",
         "rawType": "object",
         "type": "string"
        },
        {
         "name": "order_date_and_time",
         "rawType": "datetime64[ns]",
         "type": "datetime"
        },
        {
         "name": "delivery_date_and_time",
         "rawType": "datetime64[ns]",
         "type": "datetime"
        },
        {
         "name": "order_value",
         "rawType": "int64",
         "type": "integer"
        },
        {
         "name": "delivery_fee",
         "rawType": "int64",
         "type": "integer"
        },
        {
         "name": "payment_method",
         "rawType": "object",
         "type": "string"
        },
        {
         "name": "discounts_and_offers",
         "rawType": "object",
         "type": "unknown"
        },
        {
         "name": "commission_fee",
         "rawType": "int64",
         "type": "integer"
        },
        {
         "name": "payment_processing_fee",
         "rawType": "int64",
         "type": "integer"
        },
        {
         "name": "refunds/chargebacks",
         "rawType": "int64",
         "type": "integer"
        },
        {
         "name": "discount_pct",
         "rawType": "int64",
         "type": "integer"
        },
        {
         "name": "discount_cash",
         "rawType": "int64",
         "type": "integer"
        },
        {
         "name": "cost",
         "rawType": "float64",
         "type": "float"
        },
        {
         "name": "revenue",
         "rawType": "int64",
         "type": "integer"
        },
        {
         "name": "profits",
         "rawType": "float64",
         "type": "float"
        },
        {
         "name": "have_profits",
         "rawType": "int64",
         "type": "integer"
        },
        {
         "name": "cost_from_offers",
         "rawType": "float64",
         "type": "float"
        }
       ],
       "conversionMethod": "pd.DataFrame",
       "ref": "fe1f3665-ff31-4ae2-b983-28a506bb1b2d",
       "rows": [
        [
         "0",
         "1",
         "C8270",
         "R2924",
         "2024-02-01 01:11:52",
         "2024-02-01 02:39:52",
         "1914",
         "0",
         "Credit Card",
         "5% on App",
         "150",
         "47",
         "0",
         "5",
         "0",
         "49.35",
         "150",
         "100.65",
         "1",
         "2.3500000000000014"
        ],
        [
         "1",
         "2",
         "C1860",
         "R2054",
         "2024-02-02 22:11:04",
         "2024-02-02 22:46:04",
         "986",
         "40",
         "Digital Wallet",
         "10%",
         "198",
         "23",
         "0",
         "10",
         "0",
         "69.3",
         "198",
         "128.7",
         "1",
         "6.299999999999997"
        ],
        [
         "2",
         "3",
         "C6390",
         "R2870",
         "2024-01-31 05:54:35",
         "2024-01-31 06:52:35",
         "937",
         "30",
         "Cash on Delivery",
         "15% New User",
         "195",
         "45",
         "0",
         "15",
         "0",
         "86.25",
         "195",
         "108.75",
         "1",
         "11.25"
        ],
        [
         "3",
         "4",
         "C6191",
         "R2642",
         "2024-01-16 22:52:49",
         "2024-01-16 23:38:49",
         "1463",
         "50",
         "Cash on Delivery",
         null,
         "146",
         "27",
         "0",
         "0",
         "0",
         "77.0",
         "146",
         "69.0",
         "1",
         "0.0"
        ],
        [
         "4",
         "5",
         "C6734",
         "R2799",
         "2024-01-29 01:19:30",
         "2024-01-29 02:48:30",
         "1992",
         "30",
         "Cash on Delivery",
         "50 off Promo",
         "130",
         "50",
         "0",
         "0",
         "50",
         "130.0",
         "130",
         "0.0",
         "0",
         "50.0"
        ]
       ],
       "shape": {
        "columns": 19,
        "rows": 5
       }
      },
      "text/html": [
       "<div>\n",
       "<style scoped>\n",
       "    .dataframe tbody tr th:only-of-type {\n",
       "        vertical-align: middle;\n",
       "    }\n",
       "\n",
       "    .dataframe tbody tr th {\n",
       "        vertical-align: top;\n",
       "    }\n",
       "\n",
       "    .dataframe thead th {\n",
       "        text-align: right;\n",
       "    }\n",
       "</style>\n",
       "<table border=\"1\" class=\"dataframe\">\n",
       "  <thead>\n",
       "    <tr style=\"text-align: right;\">\n",
       "      <th></th>\n",
       "      <th>order_id</th>\n",
       "      <th>customer_id</th>\n",
       "      <th>restaurant_id</th>\n",
       "      <th>order_date_and_time</th>\n",
       "      <th>delivery_date_and_time</th>\n",
       "      <th>order_value</th>\n",
       "      <th>delivery_fee</th>\n",
       "      <th>payment_method</th>\n",
       "      <th>discounts_and_offers</th>\n",
       "      <th>commission_fee</th>\n",
       "      <th>payment_processing_fee</th>\n",
       "      <th>refunds/chargebacks</th>\n",
       "      <th>discount_pct</th>\n",
       "      <th>discount_cash</th>\n",
       "      <th>cost</th>\n",
       "      <th>revenue</th>\n",
       "      <th>profits</th>\n",
       "      <th>have_profits</th>\n",
       "      <th>cost_from_offers</th>\n",
       "    </tr>\n",
       "  </thead>\n",
       "  <tbody>\n",
       "    <tr>\n",
       "      <th>0</th>\n",
       "      <td>1</td>\n",
       "      <td>C8270</td>\n",
       "      <td>R2924</td>\n",
       "      <td>2024-02-01 01:11:52</td>\n",
       "      <td>2024-02-01 02:39:52</td>\n",
       "      <td>1914</td>\n",
       "      <td>0</td>\n",
       "      <td>Credit Card</td>\n",
       "      <td>5% on App</td>\n",
       "      <td>150</td>\n",
       "      <td>47</td>\n",
       "      <td>0</td>\n",
       "      <td>5</td>\n",
       "      <td>0</td>\n",
       "      <td>49.35</td>\n",
       "      <td>150</td>\n",
       "      <td>100.65</td>\n",
       "      <td>1</td>\n",
       "      <td>2.35</td>\n",
       "    </tr>\n",
       "    <tr>\n",
       "      <th>1</th>\n",
       "      <td>2</td>\n",
       "      <td>C1860</td>\n",
       "      <td>R2054</td>\n",
       "      <td>2024-02-02 22:11:04</td>\n",
       "      <td>2024-02-02 22:46:04</td>\n",
       "      <td>986</td>\n",
       "      <td>40</td>\n",
       "      <td>Digital Wallet</td>\n",
       "      <td>10%</td>\n",
       "      <td>198</td>\n",
       "      <td>23</td>\n",
       "      <td>0</td>\n",
       "      <td>10</td>\n",
       "      <td>0</td>\n",
       "      <td>69.30</td>\n",
       "      <td>198</td>\n",
       "      <td>128.70</td>\n",
       "      <td>1</td>\n",
       "      <td>6.30</td>\n",
       "    </tr>\n",
       "    <tr>\n",
       "      <th>2</th>\n",
       "      <td>3</td>\n",
       "      <td>C6390</td>\n",
       "      <td>R2870</td>\n",
       "      <td>2024-01-31 05:54:35</td>\n",
       "      <td>2024-01-31 06:52:35</td>\n",
       "      <td>937</td>\n",
       "      <td>30</td>\n",
       "      <td>Cash on Delivery</td>\n",
       "      <td>15% New User</td>\n",
       "      <td>195</td>\n",
       "      <td>45</td>\n",
       "      <td>0</td>\n",
       "      <td>15</td>\n",
       "      <td>0</td>\n",
       "      <td>86.25</td>\n",
       "      <td>195</td>\n",
       "      <td>108.75</td>\n",
       "      <td>1</td>\n",
       "      <td>11.25</td>\n",
       "    </tr>\n",
       "    <tr>\n",
       "      <th>3</th>\n",
       "      <td>4</td>\n",
       "      <td>C6191</td>\n",
       "      <td>R2642</td>\n",
       "      <td>2024-01-16 22:52:49</td>\n",
       "      <td>2024-01-16 23:38:49</td>\n",
       "      <td>1463</td>\n",
       "      <td>50</td>\n",
       "      <td>Cash on Delivery</td>\n",
       "      <td>NaN</td>\n",
       "      <td>146</td>\n",
       "      <td>27</td>\n",
       "      <td>0</td>\n",
       "      <td>0</td>\n",
       "      <td>0</td>\n",
       "      <td>77.00</td>\n",
       "      <td>146</td>\n",
       "      <td>69.00</td>\n",
       "      <td>1</td>\n",
       "      <td>0.00</td>\n",
       "    </tr>\n",
       "    <tr>\n",
       "      <th>4</th>\n",
       "      <td>5</td>\n",
       "      <td>C6734</td>\n",
       "      <td>R2799</td>\n",
       "      <td>2024-01-29 01:19:30</td>\n",
       "      <td>2024-01-29 02:48:30</td>\n",
       "      <td>1992</td>\n",
       "      <td>30</td>\n",
       "      <td>Cash on Delivery</td>\n",
       "      <td>50 off Promo</td>\n",
       "      <td>130</td>\n",
       "      <td>50</td>\n",
       "      <td>0</td>\n",
       "      <td>0</td>\n",
       "      <td>50</td>\n",
       "      <td>130.00</td>\n",
       "      <td>130</td>\n",
       "      <td>0.00</td>\n",
       "      <td>0</td>\n",
       "      <td>50.00</td>\n",
       "    </tr>\n",
       "  </tbody>\n",
       "</table>\n",
       "</div>"
      ],
      "text/plain": [
       "   order_id customer_id restaurant_id order_date_and_time  \\\n",
       "0         1       C8270         R2924 2024-02-01 01:11:52   \n",
       "1         2       C1860         R2054 2024-02-02 22:11:04   \n",
       "2         3       C6390         R2870 2024-01-31 05:54:35   \n",
       "3         4       C6191         R2642 2024-01-16 22:52:49   \n",
       "4         5       C6734         R2799 2024-01-29 01:19:30   \n",
       "\n",
       "  delivery_date_and_time  order_value  delivery_fee    payment_method  \\\n",
       "0    2024-02-01 02:39:52         1914             0       Credit Card   \n",
       "1    2024-02-02 22:46:04          986            40    Digital Wallet   \n",
       "2    2024-01-31 06:52:35          937            30  Cash on Delivery   \n",
       "3    2024-01-16 23:38:49         1463            50  Cash on Delivery   \n",
       "4    2024-01-29 02:48:30         1992            30  Cash on Delivery   \n",
       "\n",
       "  discounts_and_offers  commission_fee  payment_processing_fee  \\\n",
       "0            5% on App             150                      47   \n",
       "1                  10%             198                      23   \n",
       "2         15% New User             195                      45   \n",
       "3                  NaN             146                      27   \n",
       "4         50 off Promo             130                      50   \n",
       "\n",
       "   refunds/chargebacks  discount_pct  discount_cash    cost  revenue  profits  \\\n",
       "0                    0             5              0   49.35      150   100.65   \n",
       "1                    0            10              0   69.30      198   128.70   \n",
       "2                    0            15              0   86.25      195   108.75   \n",
       "3                    0             0              0   77.00      146    69.00   \n",
       "4                    0             0             50  130.00      130     0.00   \n",
       "\n",
       "   have_profits  cost_from_offers  \n",
       "0             1              2.35  \n",
       "1             1              6.30  \n",
       "2             1             11.25  \n",
       "3             1              0.00  \n",
       "4             0             50.00  "
      ]
     },
     "execution_count": 20,
     "metadata": {},
     "output_type": "execute_result"
    }
   ],
   "source": [
    "df['cost_from_offers'] = df['cost'] - df['payment_processing_fee'] - df['delivery_fee'] \n",
    "df.head()"
   ]
  },
  {
   "cell_type": "code",
   "execution_count": 21,
   "id": "d0ad29c3",
   "metadata": {},
   "outputs": [
    {
     "data": {
      "text/plain": [
       "<Axes: xlabel='discounts_and_offers'>"
      ]
     },
     "execution_count": 21,
     "metadata": {},
     "output_type": "execute_result"
    },
    {
     "data": {
      "image/png": "[encoded data removed]",
      "text/plain": [
       "<Figure size 1200x300 with 1 Axes>"
      ]
     },
     "metadata": {},
     "output_type": "display_data"
    }
   ],
   "source": [
    "df['discounts_and_offers'] = df['discounts_and_offers'].fillna('No Offer')\n",
    "\n",
    "plt.figure(figsize=(12, 3))\n",
    "\n",
    "# avg cost per offer\n",
    "avg_cost = df.groupby('discounts_and_offers')['cost_from_offers'].mean().sort_values()\n",
    "sns.barplot(x=avg_cost.index, y=avg_cost.values)"
   ]
  },
  {
   "cell_type": "code",
   "execution_count": 22,
   "id": "85d7fd99",
   "metadata": {},
   "outputs": [
    {
     "data": {
      "text/plain": [
       "([0, 1, 2, 3, 4],\n",
       " [Text(0, 0, '50 off Promo'),\n",
       "  Text(1, 0, '15% New User'),\n",
       "  Text(2, 0, '10%'),\n",
       "  Text(3, 0, '5% on App'),\n",
       "  Text(4, 0, 'No Offer')])"
      ]
     },
     "execution_count": 22,
     "metadata": {},
     "output_type": "execute_result"
    },
    {
     "data": {
      "text/plain": [
       "<Figure size 1200x300 with 0 Axes>"
      ]
     },
     "metadata": {},
     "output_type": "display_data"
    },
    {
     "data": {
      "image/png": "[encoded data removed]",
      "text/plain": [
       "<Figure size 1200x400 with 1 Axes>"
      ]
     },
     "metadata": {},
     "output_type": "display_data"
    }
   ],
   "source": [
    "plt.figure(figsize=(12, 3))\n",
    "\n",
    "profit_counts = df.groupby('discounts_and_offers')['have_profits'].sum()\n",
    "total_counts = df['discounts_and_offers'].value_counts()\n",
    "profit_percentage = (profit_counts / total_counts * 100).sort_values()\n",
    "\n",
    "# Plot the percentage of profitable offers\n",
    "plt.figure(figsize=(12, 4))\n",
    "sns.barplot(x=profit_percentage.index, y=profit_percentage.values)\n",
    "plt.xticks(rotation=45)"
   ]
  },
  {
   "cell_type": "markdown",
   "id": "c6c79946",
   "metadata": {},
   "source": [
    "### 3.3 Percentage of Profitable orders is the lowest for cash discounts as well"
   ]
  },
  {
   "cell_type": "code",
   "execution_count": 23,
   "id": "dfbae44e",
   "metadata": {},
   "outputs": [
    {
     "data": {
      "text/plain": [
       "customer_id\n",
       "C7938    3\n",
       "C7949    3\n",
       "C6486    2\n",
       "C7190    2\n",
       "C6977    2\n",
       "        ..\n",
       "C8509    1\n",
       "C4854    1\n",
       "C3491    1\n",
       "C4124    1\n",
       "C4335    1\n",
       "Name: count, Length: 947, dtype: int64"
      ]
     },
     "execution_count": 23,
     "metadata": {},
     "output_type": "execute_result"
    }
   ],
   "source": [
    "df.customer_id.value_counts()"
   ]
  },
  {
   "cell_type": "code",
   "execution_count": 24,
   "id": "7efe13c9",
   "metadata": {},
   "outputs": [
    {
     "data": {
      "image/png": "[encoded data removed]",
      "text/plain": [
       "<Figure size 1200x400 with 2 Axes>"
      ]
     },
     "metadata": {},
     "output_type": "display_data"
    }
   ],
   "source": [
    "profits_orders = df.groupby('discounts_and_offers').agg({'profits': 'sum', 'cost': 'count'}).reset_index()\n",
    "profits_orders.rename(columns={'cost': 'total_orders'}, inplace=True)\n",
    "\n",
    "plt.figure(figsize=(12, 4))\n",
    "\n",
    "ax1 = sns.barplot(x='discounts_and_offers', y='profits', data=profits_orders, color='blue', alpha=0.7, label='Total Profits')\n",
    "ax2 = ax1.twinx()\n",
    "sns.lineplot(x='discounts_and_offers', y='total_orders', data=profits_orders, color='red', marker='o', markersize=8, ax=ax2, label='Total Orders')\n",
    "\n",
    "ax1.set_title('Total Profits and Total Orders by Discount Offer')\n",
    "ax1.set_xlabel('Discount Offer')\n",
    "ax1.set_ylabel('Total Profits')\n",
    "ax2.set_ylabel('Total Orders')\n",
    "plt.xticks(rotation=45)\n",
    "plt.legend(loc='upper left')\n",
    "plt.tight_layout()\n",
    "plt.show()"
   ]
  },
  {
   "cell_type": "code",
   "execution_count": 25,
   "id": "6e83271b",
   "metadata": {},
   "outputs": [],
   "source": [
    "# From here we can see the profits and orders that each discount created"
   ]
  },
  {
   "cell_type": "markdown",
   "id": "8db60669",
   "metadata": {},
   "source": [
    "### 3.4 Time series analysis\n",
    "\n",
    "Let's explore a few time series analyses: (a) seasonality effects, (b) weekends/weekdays trends, (c) effects of different times of day - breakfast, lunch, dinner, supper. This would help guide our dynamic pricing decision and discount/voucher drops"
   ]
  },
  {
   "cell_type": "code",
   "execution_count": 26,
   "id": "f03a757b",
   "metadata": {},
   "outputs": [
    {
     "data": {
      "application/vnd.microsoft.datawrangler.viewer.v0+json": {
       "columns": [
        {
         "name": "index",
         "rawType": "int64",
         "type": "integer"
        },
        {
         "name": "order_id",
         "rawType": "int64",
         "type": "integer"
        },
        {
         "name": "customer_id",
         "rawType": "object",
         "type": "string"
        },
        {
         "name": "restaurant_id",
         "rawType": "object",
         "type": "string"
        },
        {
         "name": "order_date_and_time",
         "rawType": "datetime64[ns]",
         "type": "datetime"
        },
        {
         "name": "delivery_date_and_time",
         "rawType": "datetime64[ns]",
         "type": "datetime"
        },
        {
         "name": "order_value",
         "rawType": "int64",
         "type": "integer"
        },
        {
         "name": "delivery_fee",
         "rawType": "int64",
         "type": "integer"
        },
        {
         "name": "payment_method",
         "rawType": "object",
         "type": "string"
        },
        {
         "name": "discounts_and_offers",
         "rawType": "object",
         "type": "string"
        },
        {
         "name": "commission_fee",
         "rawType": "int64",
         "type": "integer"
        },
        {
         "name": "payment_processing_fee",
         "rawType": "int64",
         "type": "integer"
        },
        {
         "name": "refunds/chargebacks",
         "rawType": "int64",
         "type": "integer"
        },
        {
         "name": "discount_pct",
         "rawType": "int64",
         "type": "integer"
        },
        {
         "name": "discount_cash",
         "rawType": "int64",
         "type": "integer"
        },
        {
         "name": "cost",
         "rawType": "float64",
         "type": "float"
        },
        {
         "name": "revenue",
         "rawType": "int64",
         "type": "integer"
        },
        {
         "name": "profits",
         "rawType": "float64",
         "type": "float"
        },
        {
         "name": "have_profits",
         "rawType": "int64",
         "type": "integer"
        },
        {
         "name": "cost_from_offers",
         "rawType": "float64",
         "type": "float"
        }
       ],
       "conversionMethod": "pd.DataFrame",
       "ref": "ceede725-c750-430b-b4dd-374cec356cb0",
       "rows": [
        [
         "0",
         "1",
         "C8270",
         "R2924",
         "2024-02-01 01:11:52",
         "2024-02-01 02:39:52",
         "1914",
         "0",
         "Credit Card",
         "5% on App",
         "150",
         "47",
         "0",
         "5",
         "0",
         "49.35",
         "150",
         "100.65",
         "1",
         "2.3500000000000014"
        ],
        [
         "1",
         "2",
         "C1860",
         "R2054",
         "2024-02-02 22:11:04",
         "2024-02-02 22:46:04",
         "986",
         "40",
         "Digital Wallet",
         "10%",
         "198",
         "23",
         "0",
         "10",
         "0",
         "69.3",
         "198",
         "128.7",
         "1",
         "6.299999999999997"
        ],
        [
         "2",
         "3",
         "C6390",
         "R2870",
         "2024-01-31 05:54:35",
         "2024-01-31 06:52:35",
         "937",
         "30",
         "Cash on Delivery",
         "15% New User",
         "195",
         "45",
         "0",
         "15",
         "0",
         "86.25",
         "195",
         "108.75",
         "1",
         "11.25"
        ],
        [
         "3",
         "4",
         "C6191",
         "R2642",
         "2024-01-16 22:52:49",
         "2024-01-16 23:38:49",
         "1463",
         "50",
         "Cash on Delivery",
         "No Offer",
         "146",
         "27",
         "0",
         "0",
         "0",
         "77.0",
         "146",
         "69.0",
         "1",
         "0.0"
        ],
        [
         "4",
         "5",
         "C6734",
         "R2799",
         "2024-01-29 01:19:30",
         "2024-01-29 02:48:30",
         "1992",
         "30",
         "Cash on Delivery",
         "50 off Promo",
         "130",
         "50",
         "0",
         "0",
         "50",
         "130.0",
         "130",
         "0.0",
         "0",
         "50.0"
        ]
       ],
       "shape": {
        "columns": 19,
        "rows": 5
       }
      },
      "text/html": [
       "<div>\n",
       "<style scoped>\n",
       "    .dataframe tbody tr th:only-of-type {\n",
       "        vertical-align: middle;\n",
       "    }\n",
       "\n",
       "    .dataframe tbody tr th {\n",
       "        vertical-align: top;\n",
       "    }\n",
       "\n",
       "    .dataframe thead th {\n",
       "        text-align: right;\n",
       "    }\n",
       "</style>\n",
       "<table border=\"1\" class=\"dataframe\">\n",
       "  <thead>\n",
       "    <tr style=\"text-align: right;\">\n",
       "      <th></th>\n",
       "      <th>order_id</th>\n",
       "      <th>customer_id</th>\n",
       "      <th>restaurant_id</th>\n",
       "      <th>order_date_and_time</th>\n",
       "      <th>delivery_date_and_time</th>\n",
       "      <th>order_value</th>\n",
       "      <th>delivery_fee</th>\n",
       "      <th>payment_method</th>\n",
       "      <th>discounts_and_offers</th>\n",
       "      <th>commission_fee</th>\n",
       "      <th>payment_processing_fee</th>\n",
       "      <th>refunds/chargebacks</th>\n",
       "      <th>discount_pct</th>\n",
       "      <th>discount_cash</th>\n",
       "      <th>cost</th>\n",
       "      <th>revenue</th>\n",
       "      <th>profits</th>\n",
       "      <th>have_profits</th>\n",
       "      <th>cost_from_offers</th>\n",
       "    </tr>\n",
       "  </thead>\n",
       "  <tbody>\n",
       "    <tr>\n",
       "      <th>0</th>\n",
       "      <td>1</td>\n",
       "      <td>C8270</td>\n",
       "      <td>R2924</td>\n",
       "      <td>2024-02-01 01:11:52</td>\n",
       "      <td>2024-02-01 02:39:52</td>\n",
       "      <td>1914</td>\n",
       "      <td>0</td>\n",
       "      <td>Credit Card</td>\n",
       "      <td>5% on App</td>\n",
       "      <td>150</td>\n",
       "      <td>47</td>\n",
       "      <td>0</td>\n",
       "      <td>5</td>\n",
       "      <td>0</td>\n",
       "      <td>49.35</td>\n",
       "      <td>150</td>\n",
       "      <td>100.65</td>\n",
       "      <td>1</td>\n",
       "      <td>2.35</td>\n",
       "    </tr>\n",
       "    <tr>\n",
       "      <th>1</th>\n",
       "      <td>2</td>\n",
       "      <td>C1860</td>\n",
       "      <td>R2054</td>\n",
       "      <td>2024-02-02 22:11:04</td>\n",
       "      <td>2024-02-02 22:46:04</td>\n",
       "      <td>986</td>\n",
       "      <td>40</td>\n",
       "      <td>Digital Wallet</td>\n",
       "      <td>10%</td>\n",
       "      <td>198</td>\n",
       "      <td>23</td>\n",
       "      <td>0</td>\n",
       "      <td>10</td>\n",
       "      <td>0</td>\n",
       "      <td>69.30</td>\n",
       "      <td>198</td>\n",
       "      <td>128.70</td>\n",
       "      <td>1</td>\n",
       "      <td>6.30</td>\n",
       "    </tr>\n",
       "    <tr>\n",
       "      <th>2</th>\n",
       "      <td>3</td>\n",
       "      <td>C6390</td>\n",
       "      <td>R2870</td>\n",
       "      <td>2024-01-31 05:54:35</td>\n",
       "      <td>2024-01-31 06:52:35</td>\n",
       "      <td>937</td>\n",
       "      <td>30</td>\n",
       "      <td>Cash on Delivery</td>\n",
       "      <td>15% New User</td>\n",
       "      <td>195</td>\n",
       "      <td>45</td>\n",
       "      <td>0</td>\n",
       "      <td>15</td>\n",
       "      <td>0</td>\n",
       "      <td>86.25</td>\n",
       "      <td>195</td>\n",
       "      <td>108.75</td>\n",
       "      <td>1</td>\n",
       "      <td>11.25</td>\n",
       "    </tr>\n",
       "    <tr>\n",
       "      <th>3</th>\n",
       "      <td>4</td>\n",
       "      <td>C6191</td>\n",
       "      <td>R2642</td>\n",
       "      <td>2024-01-16 22:52:49</td>\n",
       "      <td>2024-01-16 23:38:49</td>\n",
       "      <td>1463</td>\n",
       "      <td>50</td>\n",
       "      <td>Cash on Delivery</td>\n",
       "      <td>No Offer</td>\n",
       "      <td>146</td>\n",
       "      <td>27</td>\n",
       "      <td>0</td>\n",
       "      <td>0</td>\n",
       "      <td>0</td>\n",
       "      <td>77.00</td>\n",
       "      <td>146</td>\n",
       "      <td>69.00</td>\n",
       "      <td>1</td>\n",
       "      <td>0.00</td>\n",
       "    </tr>\n",
       "    <tr>\n",
       "      <th>4</th>\n",
       "      <td>5</td>\n",
       "      <td>C6734</td>\n",
       "      <td>R2799</td>\n",
       "      <td>2024-01-29 01:19:30</td>\n",
       "      <td>2024-01-29 02:48:30</td>\n",
       "      <td>1992</td>\n",
       "      <td>30</td>\n",
       "      <td>Cash on Delivery</td>\n",
       "      <td>50 off Promo</td>\n",
       "      <td>130</td>\n",
       "      <td>50</td>\n",
       "      <td>0</td>\n",
       "      <td>0</td>\n",
       "      <td>50</td>\n",
       "      <td>130.00</td>\n",
       "      <td>130</td>\n",
       "      <td>0.00</td>\n",
       "      <td>0</td>\n",
       "      <td>50.00</td>\n",
       "    </tr>\n",
       "  </tbody>\n",
       "</table>\n",
       "</div>"
      ],
      "text/plain": [
       "   order_id customer_id restaurant_id order_date_and_time  \\\n",
       "0         1       C8270         R2924 2024-02-01 01:11:52   \n",
       "1         2       C1860         R2054 2024-02-02 22:11:04   \n",
       "2         3       C6390         R2870 2024-01-31 05:54:35   \n",
       "3         4       C6191         R2642 2024-01-16 22:52:49   \n",
       "4         5       C6734         R2799 2024-01-29 01:19:30   \n",
       "\n",
       "  delivery_date_and_time  order_value  delivery_fee    payment_method  \\\n",
       "0    2024-02-01 02:39:52         1914             0       Credit Card   \n",
       "1    2024-02-02 22:46:04          986            40    Digital Wallet   \n",
       "2    2024-01-31 06:52:35          937            30  Cash on Delivery   \n",
       "3    2024-01-16 23:38:49         1463            50  Cash on Delivery   \n",
       "4    2024-01-29 02:48:30         1992            30  Cash on Delivery   \n",
       "\n",
       "  discounts_and_offers  commission_fee  payment_processing_fee  \\\n",
       "0            5% on App             150                      47   \n",
       "1                  10%             198                      23   \n",
       "2         15% New User             195                      45   \n",
       "3             No Offer             146                      27   \n",
       "4         50 off Promo             130                      50   \n",
       "\n",
       "   refunds/chargebacks  discount_pct  discount_cash    cost  revenue  profits  \\\n",
       "0                    0             5              0   49.35      150   100.65   \n",
       "1                    0            10              0   69.30      198   128.70   \n",
       "2                    0            15              0   86.25      195   108.75   \n",
       "3                    0             0              0   77.00      146    69.00   \n",
       "4                    0             0             50  130.00      130     0.00   \n",
       "\n",
       "   have_profits  cost_from_offers  \n",
       "0             1              2.35  \n",
       "1             1              6.30  \n",
       "2             1             11.25  \n",
       "3             1              0.00  \n",
       "4             0             50.00  "
      ]
     },
     "execution_count": 26,
     "metadata": {},
     "output_type": "execute_result"
    }
   ],
   "source": [
    "df.head()"
   ]
  },
  {
   "cell_type": "code",
   "execution_count": null,
   "id": "4dee63de",
   "metadata": {},
   "outputs": [],
   "source": [
    "df['order_date'] = df['order_date_and_time'].dt.date\n",
    "df['order_time'] = df['order_date_and_time'].dt.time\n",
    "df['delivery_date'] = df['delivery_date_and_time'].dt.date\n",
    "df['delivery_time'] = df['delivery_date_and_time'].dt.time\n",
    "\n",
    "df.set_index('order_date', inplace=True) \n",
    "df.index = pd.to_datetime(df.index)"
   ]
  },
  {
   "cell_type": "code",
   "execution_count": 28,
   "id": "9664f55f",
   "metadata": {},
   "outputs": [
    {
     "data": {
      "image/png": "[encoded data removed]",
      "text/plain": [
       "<Figure size 1000x400 with 1 Axes>"
      ]
     },
     "metadata": {},
     "output_type": "display_data"
    }
   ],
   "source": [
    "# 1. seasonality effects\n",
    "plt.figure(figsize=(10,4))\n",
    "df['order_value'].resample('M').sum().plot(marker='o', linestyle='-')\n",
    "plt.title('Monthly Order Value')\n",
    "plt.xlabel('Month')\n",
    "plt.ylabel('Total Order Value')\n",
    "plt.show()"
   ]
  },
  {
   "cell_type": "code",
   "execution_count": 29,
   "id": "7ee3ec3c",
   "metadata": {},
   "outputs": [
    {
     "data": {
      "image/png": "[encoded data removed]",
      "text/plain": [
       "<Figure size 1200x600 with 1 Axes>"
      ]
     },
     "metadata": {},
     "output_type": "display_data"
    }
   ],
   "source": [
    "# 2. effects of weekends and weekdays\n",
    "plt.figure(figsize=(12, 6))\n",
    "df['weekday'] = df.index.dayofweek  # Monday=0, Sunday=6\n",
    "sns.boxplot(x='weekday', y='order_value', data=df)\n",
    "plt.title('Order Value by Weekday')\n",
    "plt.xlabel('Weekday')\n",
    "plt.ylabel('Order Value')\n",
    "plt.xticks(ticks=range(7), labels=['Mon', 'Tue', 'Wed', 'Thu', 'Fri', 'Sat', 'Sun'])\n",
    "plt.show()"
   ]
  },
  {
   "cell_type": "code",
   "execution_count": 30,
   "id": "fbbbb859",
   "metadata": {},
   "outputs": [
    {
     "data": {
      "text/plain": [
       "([<matplotlib.axis.XTick at 0x25f42de2d50>,\n",
       "  <matplotlib.axis.XTick at 0x25f42e2a210>,\n",
       "  <matplotlib.axis.XTick at 0x25f42e2a990>,\n",
       "  <matplotlib.axis.XTick at 0x25f42e2b110>,\n",
       "  <matplotlib.axis.XTick at 0x25f42e2b890>,\n",
       "  <matplotlib.axis.XTick at 0x25f43f60050>,\n",
       "  <matplotlib.axis.XTick at 0x25f43f607d0>],\n",
       " [Text(0, 0, 'Mon'),\n",
       "  Text(1, 0, 'Tue'),\n",
       "  Text(2, 0, 'Wed'),\n",
       "  Text(3, 0, 'Thu'),\n",
       "  Text(4, 0, 'Fri'),\n",
       "  Text(5, 0, 'Sat'),\n",
       "  Text(6, 0, 'Sun')])"
      ]
     },
     "execution_count": 30,
     "metadata": {},
     "output_type": "execute_result"
    },
    {
     "data": {
      "image/png": "[encoded data removed]",
      "text/plain": [
       "<Figure size 640x480 with 1 Axes>"
      ]
     },
     "metadata": {},
     "output_type": "display_data"
    }
   ],
   "source": [
    "orders_per_weekday = df.groupby(df.index.dayofweek).size()\n",
    "sns.barplot(x=orders_per_weekday.index, y=orders_per_weekday.values)\n",
    "plt.xticks(range(7), ['Mon', 'Tue', 'Wed', 'Thu', 'Fri', 'Sat', 'Sun'])"
   ]
  },
  {
   "cell_type": "code",
   "execution_count": 31,
   "id": "96e97c7a",
   "metadata": {},
   "outputs": [
    {
     "data": {
      "image/png": "[encoded data removed]",
      "text/plain": [
       "<Figure size 1200x600 with 1 Axes>"
      ]
     },
     "metadata": {},
     "output_type": "display_data"
    }
   ],
   "source": [
    "# 3. effects of different times of the day\n",
    "plt.figure(figsize=(12, 6))\n",
    "df['order_hour'] = df['order_date_and_time'].dt.hour\n",
    "sns.boxplot(x='order_hour', y='order_value', data=df)\n",
    "plt.title('Order Value by Hour of the Day')\n",
    "plt.xlabel('Hour of the Day')\n",
    "plt.ylabel('Order Value')\n",
    "plt.show()"
   ]
  },
  {
   "cell_type": "code",
   "execution_count": 32,
   "id": "ece6c1fa",
   "metadata": {},
   "outputs": [],
   "source": [
    "breakfast_range = (5, 11)  # 5 AM to 11 AM\n",
    "lunch_range = (11, 15)     # 11 AM to 3 PM\n",
    "dinner_range = (15, 20)    # 3 PM to 8 PM\n",
    "supper_range = (20, 5)     # 8 PM to 5 AM (next day)\n",
    "\n",
    "# map time of the day\n",
    "def categorize_time(hour):\n",
    "    if breakfast_range[0] <= hour < breakfast_range[1]:\n",
    "        return 'Breakfast'\n",
    "    elif lunch_range[0] <= hour < lunch_range[1]:\n",
    "        return 'Lunch'\n",
    "    elif dinner_range[0] <= hour < dinner_range[1]:\n",
    "        return 'Dinner'\n",
    "    else:\n",
    "        return 'Supper'"
   ]
  },
  {
   "cell_type": "code",
   "execution_count": 34,
   "id": "84ab9909",
   "metadata": {},
   "outputs": [
    {
     "data": {
      "image/png": "[encoded data removed]",
      "text/plain": [
       "<Figure size 600x300 with 1 Axes>"
      ]
     },
     "metadata": {},
     "output_type": "display_data"
    }
   ],
   "source": [
    "df[\"time_category\"] = df[\"order_date_and_time\"].dt.hour.apply(categorize_time)\n",
    "avg_values = (\n",
    "    df.groupby(\"time_category\")\n",
    "    .agg({\"order_value\": \"mean\", \"profits\": \"mean\"})\n",
    "    .reset_index()\n",
    ")\n",
    "\n",
    "plt.figure(figsize=(6, 3))\n",
    "sns.barplot(\n",
    "    x=\"time_category\",\n",
    "    y=\"order_value\",\n",
    "    data=avg_values,\n",
    "    color=\"skyblue\",\n",
    "    label=\"Avg Order Value\",\n",
    ")\n",
    "sns.barplot(\n",
    "    x=\"time_category\", y=\"profits\", data=avg_values, color=\"orange\", label=\"Avg Profits\"\n",
    ")\n",
    "plt.title(\"Average Order Value and Profits by Time Category\")\n",
    "plt.ylabel(\"Amount\")\n",
    "plt.legend()\n",
    "plt.show()"
   ]
  },
  {
   "cell_type": "code",
   "execution_count": 35,
   "id": "919d62f5",
   "metadata": {},
   "outputs": [
    {
     "data": {
      "text/plain": [
       "<Axes: xlabel='time_category'>"
      ]
     },
     "execution_count": 35,
     "metadata": {},
     "output_type": "execute_result"
    },
    {
     "data": {
      "image/png": "[encoded data removed]",
      "text/plain": [
       "<Figure size 640x480 with 1 Axes>"
      ]
     },
     "metadata": {},
     "output_type": "display_data"
    }
   ],
   "source": [
    "orders_per_time_category = df['time_category'].value_counts()\n",
    "sns.barplot(x=orders_per_time_category.index, y=orders_per_time_category.values)"
   ]
  },
  {
   "cell_type": "code",
   "execution_count": null,
   "id": "bb74f6f6",
   "metadata": {},
   "outputs": [],
   "source": [
    "# These findings guide commercial teams to distribute vouchers and discounts at optimal timings to maximize a chosen performance metric."
   ]
  }
 ],
 "metadata": {
  "kernelspec": {
   "display_name": "Python 3",
   "language": "python",
   "name": "python3"
  },
  "language_info": {
   "codemirror_mode": {
    "name": "ipython",
    "version": 3
   },
   "file_extension": ".py",
   "mimetype": "text/x-python",
   "name": "python",
   "nbconvert_exporter": "python",
   "pygments_lexer": "ipython3",
   "version": "3.13.3"
  }
 },
 "nbformat": 4,
 "nbformat_minor": 5
}
